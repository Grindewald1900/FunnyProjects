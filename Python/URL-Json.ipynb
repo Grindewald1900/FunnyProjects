{
 "cells": [
  {
   "cell_type": "code",
   "execution_count": 2,
   "metadata": {},
   "outputs": [],
   "source": [
    "import urllib.request, urllib.parse, urllib.error\n",
    "import json\n",
    "import ssl"
   ]
  },
  {
   "cell_type": "code",
   "execution_count": null,
   "metadata": {},
   "outputs": [],
   "source": [
    "import urllib.request, urllib.parse, urllib.error\n",
    "import json\n",
    "import ssl"
   ]
  },
  {
   "cell_type": "code",
   "execution_count": null,
   "metadata": {},
   "outputs": [],
   "source": [
    "# Ignore SSL certificate errors\n",
    "ctx = ssl.create_default_context()\n",
    "ctx.check_hostname = False\n",
    "ctx.verify_mode = ssl.CERT_NONE"
   ]
  },
  {
   "cell_type": "code",
   "execution_count": null,
   "metadata": {},
   "outputs": [],
   "source": [
    "address = input('Enter location: ')\n",
    "if len(address) < 1: break\n",
    "\n",
    "parms = dict()\n",
    "parms['address'] = address\n",
    "if api_key is not False: parms['key'] = api_key\n",
    "url = serviceurl + urllib.parse.urlencode(parms)\n",
    "print(url)\n",
    "\n",
    "print('Retrieving', url)\n",
    "uh = urllib.request.urlopen(url, context=ctx)\n",
    "data = uh.read().decode()\n",
    "print(data)\n",
    "print('Retrieved', len(data), 'characters')\n",
    "\n",
    "try:\n",
    "    js = json.loads(data)\n",
    "except:\n",
    "    js = None\n",
    "\n",
    "if not js or 'status' not in js or js['status'] != 'OK':\n",
    "    print('==== Failure To Retrieve ====')\n",
    "    print(data)\n",
    "    continue\n",
    "\n",
    "print(json.dumps(js, indent=4))\n"
   ]
  },
  {
   "cell_type": "code",
   "execution_count": null,
   "metadata": {},
   "outputs": [],
   "source": []
  }
 ],
 "metadata": {
  "kernelspec": {
   "display_name": "Python 3",
   "language": "python",
   "name": "python3"
  },
  "language_info": {
   "codemirror_mode": {
    "name": "ipython",
    "version": 3
   },
   "file_extension": ".py",
   "mimetype": "text/x-python",
   "name": "python",
   "nbconvert_exporter": "python",
   "pygments_lexer": "ipython3",
   "version": "3.7.4"
  }
 },
 "nbformat": 4,
 "nbformat_minor": 4
}
